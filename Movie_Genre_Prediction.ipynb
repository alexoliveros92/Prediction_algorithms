{
  "nbformat": 4,
  "nbformat_minor": 0,
  "metadata": {
    "colab": {
      "provenance": [],
      "include_colab_link": true
    },
    "kernelspec": {
      "name": "python3",
      "display_name": "Python 3"
    },
    "language_info": {
      "name": "python"
    }
  },
  "cells": [
    {
      "cell_type": "markdown",
      "metadata": {
        "id": "view-in-github",
        "colab_type": "text"
      },
      "source": [
        "<a href=\"https://colab.research.google.com/github/alexoliveros92/Prediction_algorithms/blob/main/Movie_Genre_Prediction.ipynb\" target=\"_parent\"><img src=\"https://colab.research.google.com/assets/colab-badge.svg\" alt=\"Open In Colab\"/></a>"
      ]
    },
    {
      "cell_type": "code",
      "execution_count": 2,
      "metadata": {
        "id": "bilk6JqVPJM3"
      },
      "outputs": [],
      "source": [
        "import numpy as np\n",
        "import pandas as pd\n",
        "from collections import Counter\n",
        "import matplotlib.pyplot as plt\n",
        "import seaborn as sns\n",
        "\n",
        "from sklearn.ensemble import RandomForestClassifier\n",
        "from sklearn.ensemble import GradientBoostingClassifier\n",
        "from sklearn.metrics import classification_report\n",
        "from sklearn.model_selection import GridSearchCV\n",
        "\n",
        "from sklearn.model_selection import train_test_split"
      ]
    },
    {
      "cell_type": "markdown",
      "metadata": {
        "id": "wHkBCWM2gVy8"
      },
      "source": [
        "## Reading Raw Dataset"
      ]
    },
    {
      "cell_type": "code",
      "execution_count": 17,
      "metadata": {
        "id": "VrBfMWjeKyoW"
      },
      "outputs": [],
      "source": [
        "netflixDataset = pd.read_csv(\"/content/n_moviesG.csv\")"
      ]
    },
    {
      "cell_type": "code",
      "execution_count": 18,
      "metadata": {
        "colab": {
          "base_uri": "https://localhost:8080/"
        },
        "id": "k0kCqIomLGXw",
        "outputId": "51dd2860-45fb-49e3-a7ba-cca99bab9f31"
      },
      "outputs": [
        {
          "output_type": "stream",
          "name": "stdout",
          "text": [
            "<class 'pandas.core.frame.DataFrame'>\n",
            "RangeIndex: 9150 entries, 0 to 9149\n",
            "Data columns (total 37 columns):\n",
            " #   Column        Non-Null Count  Dtype  \n",
            "---  ------        --------------  -----  \n",
            " 0   movie_ID      9150 non-null   int64  \n",
            " 1   title         9150 non-null   object \n",
            " 2   year          9150 non-null   int64  \n",
            " 3   certificate   9150 non-null   object \n",
            " 4   duration_min  9150 non-null   int64  \n",
            " 5   genre         9150 non-null   object \n",
            " 6   Tag           9150 non-null   object \n",
            " 7   rating        9150 non-null   float64\n",
            " 8   description   9150 non-null   object \n",
            " 9   stars         9150 non-null   object \n",
            " 10  votes         9150 non-null   object \n",
            " 11  Unnamed: 11   0 non-null      float64\n",
            " 12  Unnamed: 12   0 non-null      float64\n",
            " 13  Unnamed: 13   0 non-null      float64\n",
            " 14  Unnamed: 14   0 non-null      float64\n",
            " 15  Unnamed: 15   0 non-null      float64\n",
            " 16  Unnamed: 16   0 non-null      float64\n",
            " 17  Unnamed: 17   0 non-null      float64\n",
            " 18  Unnamed: 18   0 non-null      float64\n",
            " 19  Unnamed: 19   0 non-null      float64\n",
            " 20  Unnamed: 20   0 non-null      float64\n",
            " 21  Unnamed: 21   0 non-null      float64\n",
            " 22  Unnamed: 22   0 non-null      float64\n",
            " 23  Unnamed: 23   0 non-null      float64\n",
            " 24  Unnamed: 24   0 non-null      float64\n",
            " 25  Unnamed: 25   0 non-null      float64\n",
            " 26  Unnamed: 26   0 non-null      float64\n",
            " 27  Unnamed: 27   0 non-null      float64\n",
            " 28  Unnamed: 28   0 non-null      float64\n",
            " 29  Unnamed: 29   0 non-null      float64\n",
            " 30  Unnamed: 30   0 non-null      float64\n",
            " 31  Unnamed: 31   0 non-null      float64\n",
            " 32  Unnamed: 32   0 non-null      float64\n",
            " 33  Unnamed: 33   0 non-null      float64\n",
            " 34  Unnamed: 34   0 non-null      float64\n",
            " 35  Unnamed: 35   0 non-null      float64\n",
            " 36  Unnamed: 36   0 non-null      float64\n",
            "dtypes: float64(27), int64(3), object(7)\n",
            "memory usage: 2.6+ MB\n"
          ]
        }
      ],
      "source": [
        "netflixDataset.info()"
      ]
    },
    {
      "cell_type": "markdown",
      "metadata": {
        "id": "xai70WghMXHT"
      },
      "source": [
        "### Data cleaning"
      ]
    },
    {
      "cell_type": "code",
      "execution_count": 19,
      "metadata": {
        "colab": {
          "base_uri": "https://localhost:8080/"
        },
        "id": "B6shSU9TLBOy",
        "outputId": "12f1577f-a68b-4159-b07b-b0ba42b7c24b"
      },
      "outputs": [
        {
          "output_type": "execute_result",
          "data": {
            "text/plain": [
              "movie_ID           0\n",
              "title              0\n",
              "year               0\n",
              "certificate        0\n",
              "duration_min       0\n",
              "genre              0\n",
              "Tag                0\n",
              "rating             0\n",
              "description        0\n",
              "stars              0\n",
              "votes              0\n",
              "Unnamed: 11     9150\n",
              "Unnamed: 12     9150\n",
              "Unnamed: 13     9150\n",
              "Unnamed: 14     9150\n",
              "Unnamed: 15     9150\n",
              "Unnamed: 16     9150\n",
              "Unnamed: 17     9150\n",
              "Unnamed: 18     9150\n",
              "Unnamed: 19     9150\n",
              "Unnamed: 20     9150\n",
              "Unnamed: 21     9150\n",
              "Unnamed: 22     9150\n",
              "Unnamed: 23     9150\n",
              "Unnamed: 24     9150\n",
              "Unnamed: 25     9150\n",
              "Unnamed: 26     9150\n",
              "Unnamed: 27     9150\n",
              "Unnamed: 28     9150\n",
              "Unnamed: 29     9150\n",
              "Unnamed: 30     9150\n",
              "Unnamed: 31     9150\n",
              "Unnamed: 32     9150\n",
              "Unnamed: 33     9150\n",
              "Unnamed: 34     9150\n",
              "Unnamed: 35     9150\n",
              "Unnamed: 36     9150\n",
              "dtype: int64"
            ]
          },
          "metadata": {},
          "execution_count": 19
        }
      ],
      "source": [
        "netflixDataset.isna().sum()"
      ]
    },
    {
      "cell_type": "markdown",
      "metadata": {
        "id": "nnqDowmOLizQ"
      },
      "source": [
        "As we can see that unnamed columns are present in our dataset which are all having null values. So make a balance of all column we need to remove all unnamed columns from dataset"
      ]
    },
    {
      "cell_type": "code",
      "execution_count": 20,
      "metadata": {
        "id": "Lbtm326OMLpw"
      },
      "outputs": [],
      "source": [
        "# Dataset contains severals unnmaed column\n",
        "# str.contains() is used to find perticular column in dataset and  loc used to access group of column    \n",
        "netflixDataset = netflixDataset.loc[:, ~netflixDataset.columns.str.contains('^Unnamed')]\n",
        "netflixDataset = netflixDataset.dropna()"
      ]
    },
    {
      "cell_type": "code",
      "execution_count": 21,
      "metadata": {
        "colab": {
          "base_uri": "https://localhost:8080/"
        },
        "id": "0GMl8CknMvJ0",
        "outputId": "46fe04f4-c431-4ad9-b616-1da5f9b72af2"
      },
      "outputs": [
        {
          "output_type": "execute_result",
          "data": {
            "text/plain": [
              "movie_ID        0\n",
              "title           0\n",
              "year            0\n",
              "certificate     0\n",
              "duration_min    0\n",
              "genre           0\n",
              "Tag             0\n",
              "rating          0\n",
              "description     0\n",
              "stars           0\n",
              "votes           0\n",
              "dtype: int64"
            ]
          },
          "metadata": {},
          "execution_count": 21
        }
      ],
      "source": [
        "netflixDataset.isna().sum()"
      ]
    },
    {
      "cell_type": "code",
      "execution_count": 22,
      "metadata": {
        "colab": {
          "base_uri": "https://localhost:8080/"
        },
        "id": "SJPZVWxJNH-3",
        "outputId": "50053d9d-fdb4-44e8-9b22-a30f3cbcd591"
      },
      "outputs": [
        {
          "output_type": "execute_result",
          "data": {
            "text/plain": [
              "0"
            ]
          },
          "metadata": {},
          "execution_count": 22
        }
      ],
      "source": [
        "sum(netflixDataset.duplicated())"
      ]
    },
    {
      "cell_type": "code",
      "execution_count": 23,
      "metadata": {
        "colab": {
          "base_uri": "https://localhost:8080/",
          "height": 423
        },
        "id": "pQmRLLPYip1C",
        "outputId": "09859591-79cf-413a-b433-0f3c7c21ed7d"
      },
      "outputs": [
        {
          "output_type": "execute_result",
          "data": {
            "text/plain": [
              "   movie_ID                   title  year certificate  duration_min  \\\n",
              "0         1               Cobra Kai  2018       TV-14            30   \n",
              "1         2               The Crown  2016       TV-MA            58   \n",
              "2         3        Better Call Saul  2022       TV-MA            46   \n",
              "3         4           Devil in Ohio  2022       TV-MA           356   \n",
              "4         5  Cyberpunk: Edgerunners  2022       TV-MA            24   \n",
              "\n",
              "       genre                           Tag  rating  \\\n",
              "0     Action         Action, Comedy, Drama     8.5   \n",
              "1  Biography     Biography, Drama, History     8.7   \n",
              "2      Crime                  Crime, Drama     8.9   \n",
              "3      Drama        Drama, Horror, Mystery     5.9   \n",
              "4  Animation  Animation, Action, Adventure     8.6   \n",
              "\n",
              "                                         description  \\\n",
              "0  Decades after their 1984 All Valley Karate Tou...   \n",
              "1  Follows the political rivalries and romance of...   \n",
              "2  The trials and tribulations of criminal lawyer...   \n",
              "3  When a psychiatrist shelters a mysterious cult...   \n",
              "4  A Street Kid trying to survive in a technology...   \n",
              "\n",
              "                                               stars    votes  \n",
              "0  ['Ralph Macchio','William Zabka','Courtney Hen...  177,031  \n",
              "1  ['Claire Foy','Olivia Colman','Imelda Staunton...  199,885  \n",
              "2  ['Bob Odenkirk','Rhea Seehorn','Jonathan Banks...  501,384  \n",
              "3  ['Emily Deschanel','Sam Jaeger','Gerardo Celas...    9,773  \n",
              "4  ['Zach Aguilar','Kenichiro Ohashi','Emi Lo','A...   15,413  "
            ],
            "text/html": [
              "\n",
              "  <div id=\"df-e315f3ac-1785-4adb-bf03-8d3f3788a1f2\">\n",
              "    <div class=\"colab-df-container\">\n",
              "      <div>\n",
              "<style scoped>\n",
              "    .dataframe tbody tr th:only-of-type {\n",
              "        vertical-align: middle;\n",
              "    }\n",
              "\n",
              "    .dataframe tbody tr th {\n",
              "        vertical-align: top;\n",
              "    }\n",
              "\n",
              "    .dataframe thead th {\n",
              "        text-align: right;\n",
              "    }\n",
              "</style>\n",
              "<table border=\"1\" class=\"dataframe\">\n",
              "  <thead>\n",
              "    <tr style=\"text-align: right;\">\n",
              "      <th></th>\n",
              "      <th>movie_ID</th>\n",
              "      <th>title</th>\n",
              "      <th>year</th>\n",
              "      <th>certificate</th>\n",
              "      <th>duration_min</th>\n",
              "      <th>genre</th>\n",
              "      <th>Tag</th>\n",
              "      <th>rating</th>\n",
              "      <th>description</th>\n",
              "      <th>stars</th>\n",
              "      <th>votes</th>\n",
              "    </tr>\n",
              "  </thead>\n",
              "  <tbody>\n",
              "    <tr>\n",
              "      <th>0</th>\n",
              "      <td>1</td>\n",
              "      <td>Cobra Kai</td>\n",
              "      <td>2018</td>\n",
              "      <td>TV-14</td>\n",
              "      <td>30</td>\n",
              "      <td>Action</td>\n",
              "      <td>Action, Comedy, Drama</td>\n",
              "      <td>8.5</td>\n",
              "      <td>Decades after their 1984 All Valley Karate Tou...</td>\n",
              "      <td>['Ralph Macchio','William Zabka','Courtney Hen...</td>\n",
              "      <td>177,031</td>\n",
              "    </tr>\n",
              "    <tr>\n",
              "      <th>1</th>\n",
              "      <td>2</td>\n",
              "      <td>The Crown</td>\n",
              "      <td>2016</td>\n",
              "      <td>TV-MA</td>\n",
              "      <td>58</td>\n",
              "      <td>Biography</td>\n",
              "      <td>Biography, Drama, History</td>\n",
              "      <td>8.7</td>\n",
              "      <td>Follows the political rivalries and romance of...</td>\n",
              "      <td>['Claire Foy','Olivia Colman','Imelda Staunton...</td>\n",
              "      <td>199,885</td>\n",
              "    </tr>\n",
              "    <tr>\n",
              "      <th>2</th>\n",
              "      <td>3</td>\n",
              "      <td>Better Call Saul</td>\n",
              "      <td>2022</td>\n",
              "      <td>TV-MA</td>\n",
              "      <td>46</td>\n",
              "      <td>Crime</td>\n",
              "      <td>Crime, Drama</td>\n",
              "      <td>8.9</td>\n",
              "      <td>The trials and tribulations of criminal lawyer...</td>\n",
              "      <td>['Bob Odenkirk','Rhea Seehorn','Jonathan Banks...</td>\n",
              "      <td>501,384</td>\n",
              "    </tr>\n",
              "    <tr>\n",
              "      <th>3</th>\n",
              "      <td>4</td>\n",
              "      <td>Devil in Ohio</td>\n",
              "      <td>2022</td>\n",
              "      <td>TV-MA</td>\n",
              "      <td>356</td>\n",
              "      <td>Drama</td>\n",
              "      <td>Drama, Horror, Mystery</td>\n",
              "      <td>5.9</td>\n",
              "      <td>When a psychiatrist shelters a mysterious cult...</td>\n",
              "      <td>['Emily Deschanel','Sam Jaeger','Gerardo Celas...</td>\n",
              "      <td>9,773</td>\n",
              "    </tr>\n",
              "    <tr>\n",
              "      <th>4</th>\n",
              "      <td>5</td>\n",
              "      <td>Cyberpunk: Edgerunners</td>\n",
              "      <td>2022</td>\n",
              "      <td>TV-MA</td>\n",
              "      <td>24</td>\n",
              "      <td>Animation</td>\n",
              "      <td>Animation, Action, Adventure</td>\n",
              "      <td>8.6</td>\n",
              "      <td>A Street Kid trying to survive in a technology...</td>\n",
              "      <td>['Zach Aguilar','Kenichiro Ohashi','Emi Lo','A...</td>\n",
              "      <td>15,413</td>\n",
              "    </tr>\n",
              "  </tbody>\n",
              "</table>\n",
              "</div>\n",
              "      <button class=\"colab-df-convert\" onclick=\"convertToInteractive('df-e315f3ac-1785-4adb-bf03-8d3f3788a1f2')\"\n",
              "              title=\"Convert this dataframe to an interactive table.\"\n",
              "              style=\"display:none;\">\n",
              "        \n",
              "  <svg xmlns=\"http://www.w3.org/2000/svg\" height=\"24px\"viewBox=\"0 0 24 24\"\n",
              "       width=\"24px\">\n",
              "    <path d=\"M0 0h24v24H0V0z\" fill=\"none\"/>\n",
              "    <path d=\"M18.56 5.44l.94 2.06.94-2.06 2.06-.94-2.06-.94-.94-2.06-.94 2.06-2.06.94zm-11 1L8.5 8.5l.94-2.06 2.06-.94-2.06-.94L8.5 2.5l-.94 2.06-2.06.94zm10 10l.94 2.06.94-2.06 2.06-.94-2.06-.94-.94-2.06-.94 2.06-2.06.94z\"/><path d=\"M17.41 7.96l-1.37-1.37c-.4-.4-.92-.59-1.43-.59-.52 0-1.04.2-1.43.59L10.3 9.45l-7.72 7.72c-.78.78-.78 2.05 0 2.83L4 21.41c.39.39.9.59 1.41.59.51 0 1.02-.2 1.41-.59l7.78-7.78 2.81-2.81c.8-.78.8-2.07 0-2.86zM5.41 20L4 18.59l7.72-7.72 1.47 1.35L5.41 20z\"/>\n",
              "  </svg>\n",
              "      </button>\n",
              "      \n",
              "  <style>\n",
              "    .colab-df-container {\n",
              "      display:flex;\n",
              "      flex-wrap:wrap;\n",
              "      gap: 12px;\n",
              "    }\n",
              "\n",
              "    .colab-df-convert {\n",
              "      background-color: #E8F0FE;\n",
              "      border: none;\n",
              "      border-radius: 50%;\n",
              "      cursor: pointer;\n",
              "      display: none;\n",
              "      fill: #1967D2;\n",
              "      height: 32px;\n",
              "      padding: 0 0 0 0;\n",
              "      width: 32px;\n",
              "    }\n",
              "\n",
              "    .colab-df-convert:hover {\n",
              "      background-color: #E2EBFA;\n",
              "      box-shadow: 0px 1px 2px rgba(60, 64, 67, 0.3), 0px 1px 3px 1px rgba(60, 64, 67, 0.15);\n",
              "      fill: #174EA6;\n",
              "    }\n",
              "\n",
              "    [theme=dark] .colab-df-convert {\n",
              "      background-color: #3B4455;\n",
              "      fill: #D2E3FC;\n",
              "    }\n",
              "\n",
              "    [theme=dark] .colab-df-convert:hover {\n",
              "      background-color: #434B5C;\n",
              "      box-shadow: 0px 1px 3px 1px rgba(0, 0, 0, 0.15);\n",
              "      filter: drop-shadow(0px 1px 2px rgba(0, 0, 0, 0.3));\n",
              "      fill: #FFFFFF;\n",
              "    }\n",
              "  </style>\n",
              "\n",
              "      <script>\n",
              "        const buttonEl =\n",
              "          document.querySelector('#df-e315f3ac-1785-4adb-bf03-8d3f3788a1f2 button.colab-df-convert');\n",
              "        buttonEl.style.display =\n",
              "          google.colab.kernel.accessAllowed ? 'block' : 'none';\n",
              "\n",
              "        async function convertToInteractive(key) {\n",
              "          const element = document.querySelector('#df-e315f3ac-1785-4adb-bf03-8d3f3788a1f2');\n",
              "          const dataTable =\n",
              "            await google.colab.kernel.invokeFunction('convertToInteractive',\n",
              "                                                     [key], {});\n",
              "          if (!dataTable) return;\n",
              "\n",
              "          const docLinkHtml = 'Like what you see? Visit the ' +\n",
              "            '<a target=\"_blank\" href=https://colab.research.google.com/notebooks/data_table.ipynb>data table notebook</a>'\n",
              "            + ' to learn more about interactive tables.';\n",
              "          element.innerHTML = '';\n",
              "          dataTable['output_type'] = 'display_data';\n",
              "          await google.colab.output.renderOutput(dataTable, element);\n",
              "          const docLink = document.createElement('div');\n",
              "          docLink.innerHTML = docLinkHtml;\n",
              "          element.appendChild(docLink);\n",
              "        }\n",
              "      </script>\n",
              "    </div>\n",
              "  </div>\n",
              "  "
            ]
          },
          "metadata": {},
          "execution_count": 23
        }
      ],
      "source": [
        "netflixDataset.head(5)"
      ]
    },
    {
      "cell_type": "markdown",
      "metadata": {
        "id": "2DChAw58Oncn"
      },
      "source": [
        "**VARIABLES ANALYSIS**\n",
        "\n",
        "movie_ID - Numeric\n",
        "\n",
        "title - Nominal\n",
        "\n",
        "year - Integer\n",
        "\n",
        "certificate - Polynomial\n",
        "\n",
        "duration_min - Integer\n",
        "\n",
        "genre - Polynomial\n",
        "\n",
        "Tag - Nominal\n",
        "\n",
        "rating - Real\n",
        "\n",
        "description - Nominal\n",
        "\n",
        "stars - Nominal\n",
        "\n",
        "votes -  Numeric\n",
        "\n"
      ]
    },
    {
      "cell_type": "markdown",
      "metadata": {
        "id": "XzdUoIkXPQhF"
      },
      "source": [
        "## Data Preparation"
      ]
    },
    {
      "cell_type": "code",
      "execution_count": 24,
      "metadata": {
        "colab": {
          "base_uri": "https://localhost:8080/"
        },
        "id": "ZSRi20GbPTWW",
        "outputId": "0ca52ab8-5024-44c9-d272-c03681647a8c"
      },
      "outputs": [
        {
          "output_type": "stream",
          "name": "stdout",
          "text": [
            "Total No of genre: 26\n",
            "Counter({'Comedy': 1998, 'Drama': 1583, 'Animation': 1297, 'Documentary': 1273, 'Action': 1113, 'Crime': 652, 'Adventure': 290, 'Biography': 177, 'Reality-TV': 173, 'Horror': 155, 'Short': 87, 'Family': 59, 'Thriller': 53, 'Game-Show': 53, 'Romance': 38, 'Music': 33, 'Mystery': 28, 'Fantasy': 26, 'Talk-Show': 25, 'Sci-Fi': 10, 'Western': 7, 'Sport': 6, 'News': 6, 'History': 4, 'Musical': 3, 'Film-Noir': 1})\n"
          ]
        }
      ],
      "source": [
        "print('Total No of genre:',len(Counter(netflixDataset['genre'])))\n",
        "print(Counter(netflixDataset['genre']))"
      ]
    },
    {
      "cell_type": "code",
      "execution_count": 25,
      "metadata": {
        "colab": {
          "base_uri": "https://localhost:8080/"
        },
        "id": "Q1XAlKksj0WM",
        "outputId": "940d331a-765b-4bd8-afea-f9e639f27c63"
      },
      "outputs": [
        {
          "output_type": "stream",
          "name": "stdout",
          "text": [
            "Total No of certificate: 20\n",
            "Counter({'Unrated': 2806, 'TV-MA': 2485, 'TV-14': 1179, 'TV-PG': 540, 'R': 471, 'Not Rated': 467, 'TV-Y7': 338, 'PG-13': 282, 'TV-Y': 168, 'PG': 159, 'TV-G': 142, 'G': 42, 'TV-Y7-FV': 31, 'Approved': 26, 'Passed': 6, 'NC-17': 4, 'MA-17': 1, '12': 1, 'M': 1, 'E10+': 1})\n"
          ]
        }
      ],
      "source": [
        "print('Total No of certificate:',len(Counter(netflixDataset['certificate'])))\n",
        "print(Counter(netflixDataset['certificate']))"
      ]
    },
    {
      "cell_type": "code",
      "execution_count": 26,
      "metadata": {
        "colab": {
          "base_uri": "https://localhost:8080/"
        },
        "id": "B_z5M52jSNOn",
        "outputId": "fd6bec4e-5bb7-409e-fa02-6cfb2d30f50f"
      },
      "outputs": [
        {
          "output_type": "stream",
          "name": "stdout",
          "text": [
            "Total No of Tag: 561\n",
            "Counter({'Comedy': 797, 'Animation, Action, Adventure': 527, 'Drama': 508, 'Documentary': 474, 'Comedy, Drama': 278, 'Crime, Drama, Mystery': 245, 'Drama, Romance': 234, 'Comedy, Drama, Romance': 203, 'Action, Crime, Drama': 169, 'Reality-TV': 164, 'Comedy, Romance': 162, 'Animation, Adventure, Comedy': 146, 'Action, Adventure, Drama': 134, 'Crime, Drama, Thriller': 129, 'Comedy, Crime, Drama': 111, 'Documentary, Crime': 108, 'Documentary, Comedy': 96, 'Drama, History': 95, 'Adventure, Comedy, Reality-TV': 92, 'Drama, Thriller': 85, 'Crime, Drama': 82, 'Action, Adventure, Comedy': 82, 'Documentary, Short': 78, 'Drama, Fantasy, Horror': 75, 'Drama, Horror, Mystery': 73, 'Action, Crime, Thriller': 73, 'Drama, Mystery, Thriller': 68, 'Animation, Comedy, Drama': 59, 'Action, Comedy, Drama': 56, 'Horror': 56, 'Animation, Short, Adventure': 55, 'Animation, Comedy, Family': 54, 'Thriller': 53, 'Action, Thriller': 47, 'Animation, Action, Comedy': 47, 'Crime, Drama, Fantasy': 46, 'Drama, History, Romance': 46, 'Documentary, Music': 46, 'Action, Comedy, Crime': 45, 'Action, Adventure, Crime': 43, 'Horror, Thriller': 43, 'Documentary, Sport': 43, 'Comedy, Drama, Fantasy': 42, 'Comedy, Drama, Family': 42, 'Drama, Mystery, Sci-Fi': 41, 'Animation': 39, 'Game-Show, Reality-TV': 38, 'Biography, Drama, History': 37, 'Comedy, Family': 35, 'Animation, Family': 34, 'Action, Drama, Fantasy': 33, 'Adventure, Comedy, Drama': 33, 'Romance': 33, 'Documentary, Biography': 32, 'Biography, Drama': 31, 'Documentary, History': 31, 'Crime': 30, 'Animation, Action, Drama': 29, 'Drama, Horror, Thriller': 28, 'Biography, Crime, Drama': 28, 'Action, Drama, Thriller': 28, 'Documentary, Crime, Mystery': 28, 'Animation, Short, Action': 27, 'Drama, Fantasy, Mystery': 27, 'Horror, Mystery, Thriller': 27, 'Family': 27, 'Action, Drama, Sci-Fi': 26, 'Crime, Thriller': 26, 'Action': 26, 'Drama, Family': 25, 'Documentary, Crime, History': 25, 'Talk-Show': 25, 'Animation, Comedy, Romance': 24, 'Action, Drama, History': 22, 'Mystery, Thriller': 22, 'Action, Adventure, Sci-Fi': 21, 'Drama, Mystery, Romance': 21, 'Animation, Adventure, Family': 21, 'Comedy, Fantasy, Romance': 21, 'Action, Mystery, Thriller': 21, 'Documentary, Biography, Crime': 21, 'Comedy, Family, Musical': 21, 'Action, Drama': 20, 'Crime, Mystery, Thriller': 20, 'Action, Adventure, Fantasy': 20, 'Animation, Adventure, Drama': 20, 'Documentary, Biography, History': 20, 'Comedy, Crime': 19, 'Comedy, Horror': 19, 'Documentary, Drama': 19, 'Documentary, Biography, Music': 19, 'Animation, Action, Crime': 18, 'Animation, Action, Fantasy': 18, 'Action, Comedy': 18, 'Action, Drama, Romance': 18, 'Short, Comedy': 18, 'Drama, History, Thriller': 17, 'Comedy, Music': 17, 'Adventure, Drama, Mystery': 17, 'Documentary, Biography, Drama': 17, 'Action, Game-Show, Reality-TV': 17, 'Comedy, Drama, Music': 16, 'Drama, Music, Romance': 16, 'Documentary, Biography, Sport': 16, 'Drama, Sci-Fi, Thriller': 16, 'Family, Fantasy': 16, 'Music, Reality-TV': 16, 'Crime, Drama, Horror': 15, 'Animation, Comedy, Fantasy': 15, 'Drama, Sport': 15, 'Comedy, Reality-TV': 15, 'Music': 15, 'Animation, Fantasy': 15, 'Animation, Comedy': 14, 'Biography, Drama, Sport': 14, 'Drama, Sci-Fi': 14, 'Biography, Drama, Music': 13, 'Biography, Comedy, Drama': 13, 'Comedy, Drama, Mystery': 13, 'Adventure, Comedy, Family': 13, 'Drama, Mystery': 13, 'Animation, Action, Sci-Fi': 13, 'Comedy, Family, Fantasy': 12, 'Adventure, Drama, Family': 12, 'Comedy, Family, Talk-Show': 12, 'Adventure, Reality-TV': 12, 'Short': 12, 'Drama, Fantasy, Romance': 11, 'Crime, Drama, Romance': 11, 'Adventure, Comedy, Crime': 11, 'Biography, Drama, Romance': 11, 'Comedy, Crime, Mystery': 11, 'Drama, Fantasy': 11, 'Documentary, Reality-TV': 11, 'Drama, Horror, Sci-Fi': 10, 'Horror, Mystery': 10, 'Animation, Drama, Fantasy': 10, 'Drama, History, War': 10, 'Action, Adventure, Family': 10, 'Comedy, Musical': 10, 'Animation, Short, Comedy': 10, 'Action, Drama, Mystery': 9, 'Action, Drama, War': 9, 'Drama, Romance, Sci-Fi': 9, 'Adventure, Drama, Fantasy': 9, 'Action, Biography, Drama': 9, 'Drama, Romance, Thriller': 9, 'Drama, Fantasy, Thriller': 9, 'Comedy, Horror, Reality-TV': 9, 'Short, Drama': 9, 'Animation, Drama, Family': 8, 'Comedy, Fantasy, Horror': 8, 'Comedy, Drama, Musical': 8, 'Action, Adventure, Thriller': 8, 'Animation, Family, Fantasy': 8, 'Crime, Drama, History': 8, 'Comedy, Drama, Thriller': 8, 'Documentary, Crime, Drama': 8, 'Comedy, Thriller': 8, 'Drama, Music': 8, 'Action, Crime': 8, 'Crime, Drama, Film-Noir': 8, 'Animation, Drama, Romance': 8, 'Reality-TV, Romance': 8, 'Documentary, Short, War': 8, 'Action, Comedy, Fantasy': 7, 'Action, Sci-Fi, Thriller': 7, 'Comedy, Family, Romance': 7, 'Adventure, Drama, History': 7, 'Crime, Horror, Mystery': 7, 'Action, Comedy, Family': 7, 'Action, Drama, Horror': 7, 'Action, Horror, Thriller': 7, 'Action, Fantasy, Sci-Fi': 7, 'Documentary, History, War': 7, 'Drama, History, Sport': 7, 'Documentary, Action, Adventure': 7, 'Comedy, Talk-Show': 7, 'Animation, Short, Family': 7, 'Drama, Romance, Sport': 6, 'Comedy, Drama, Horror': 6, 'Adventure, Biography, Drama': 6, 'Action, Horror, Sci-Fi': 6, 'Comedy, Sci-Fi': 6, 'Fantasy, Horror, Mystery': 6, 'Comedy, Fantasy': 6, 'Adventure, Drama, Sci-Fi': 6, 'Sci-Fi, Thriller': 6, 'Documentary, Crime, Sport': 6, 'Drama, Family, Sport': 6, 'Documentary, Family, History': 6, 'Sport': 6, 'Comedy, Music, Romance': 6, 'Animation, Short': 6, 'Documentary, Short, Sport': 6, 'Documentary, Short, Biography': 6, 'Biography': 6, 'Adventure': 6, 'Action, Adventure, Biography': 5, 'Drama, War': 5, 'Adventure, Drama, Horror': 5, 'Animation, Crime, Drama': 5, 'Adventure, Comedy, Romance': 5, 'Horror, Mystery, Sci-Fi': 5, 'Game-Show, Reality-TV, Romance': 5, 'Comedy, Sport': 5, 'Adventure, Drama': 5, 'Drama, Romance, War': 5, 'Action, Comedy, Romance': 5, 'Game-Show': 5, 'Documentary, Drama, History': 5, 'Adventure, Fantasy, Horror': 5, 'Animation, Short, Drama': 5, 'Documentary, War': 5, 'Western': 5, 'Drama, Reality-TV': 5, 'Documentary, Family': 5, 'News': 5, 'Documentary, Animation, Short': 5, 'Documentary, Drama, Family': 5, 'Documentary, Short, Crime': 5, 'Documentary, Short, Action': 5, 'Biography, Drama, Mystery': 4, 'Action, Biography, Crime': 4, 'Comedy, Drama, Sci-Fi': 4, 'Adventure, Family, Fantasy': 4, 'Horror, Sci-Fi, Thriller': 4, 'Crime, Horror, Thriller': 4, 'Adventure, Drama, Thriller': 4, 'Drama, Horror': 4, 'Drama, Western': 4, 'Drama, Family, Fantasy': 4, 'Action, Crime, Mystery': 4, 'Drama, Fantasy, Sci-Fi': 4, 'Documentary, Reality-TV, Romance': 4, 'Action, Sci-Fi': 4, 'Fantasy, Mystery, Romance': 4, 'Action, Fantasy, Horror': 4, 'Adventure, Crime, Drama': 4, 'Animation, Drama, Mystery': 4, 'Animation, Adventure, Fantasy': 4, 'Action, Comedy, Sci-Fi': 4, 'Animation, Drama, Horror': 4, 'Documentary, Adventure': 4, 'Documentary, News': 4, 'Documentary, Biography, Comedy': 4, 'Fantasy, Romance': 4, 'Drama, Musical': 4, 'Sci-Fi': 4, 'Documentary, Comedy, Drama': 4, 'Documentary, History, News': 4, 'Comedy, Drama, Sport': 3, 'Action, Comedy, Thriller': 3, 'Action, Drama, Western': 3, 'Family, Fantasy, Musical': 3, 'Biography, Drama, Musical': 3, 'Action, Adventure, Horror': 3, 'Biography, Drama, Family': 3, 'Action, Western': 3, 'Crime, Mystery, Romance': 3, 'Crime, Drama, Music': 3, 'Adventure, Comedy': 3, 'Action, Crime, Sci-Fi': 3, 'Short, Family': 3, 'Drama, Music, Musical': 3, 'Action, Drama, Sport': 3, 'Comedy, Horror, Thriller': 3, 'Animation, Adventure, Sci-Fi': 3, 'Drama, Thriller, War': 3, 'Comedy, Fantasy, Musical': 3, 'Documentary, History, Sport': 3, 'Documentary, Short, Comedy': 3, 'Action, Comedy, History': 3, 'Comedy, Drama, History': 3, 'Animation, Comedy, Sport': 3, 'Comedy, Crime, Thriller': 3, 'Drama, Family, Music': 3, 'Documentary, Adventure, Drama': 3, 'Adventure, Drama, Romance': 3, 'Short, Drama, Romance': 3, 'Animation, Drama, Music': 3, 'Biography, Drama, War': 3, 'Short, Adventure, Comedy': 3, 'Short, Documentary': 3, 'Drama, Family, Romance': 3, 'Documentary, Biography, News': 3, 'Animation, Sport': 3, 'Animation, Family, Musical': 3, 'Documentary, Short, History': 3, 'Documentary, Short, Drama': 3, 'Documentary, Animation, Comedy': 3, 'Short, Horror': 3, 'Adventure, Fantasy': 2, 'Comedy, Musical, Romance': 2, 'Adventure, Sci-Fi': 2, 'Comedy, Mystery': 2, 'Action, Crime, Horror': 2, 'Adventure, Comedy, Fantasy': 2, 'Drama, Horror, Music': 2, 'Documentary, History, Music': 2, 'Action, Crime, Fantasy': 2, 'Action, Horror, Mystery': 2, 'Biography, Drama, Thriller': 2, 'Adventure, Horror, Thriller': 2, 'Action, Romance, Thriller': 2, 'Action, Comedy, Horror': 2, 'Comedy, Horror, Mystery': 2, 'Adventure, Family, Sci-Fi': 2, 'Action, Adventure': 2, 'Fantasy, Horror, Romance': 2, 'Comedy, Drama, War': 2, 'Mystery, Sci-Fi, Thriller': 2, 'Action, Adventure, History': 2, 'Crime, Drama, Sci-Fi': 2, 'Action, Crime, Romance': 2, 'Documentary, Crime, Music': 2, 'Romance, Sci-Fi': 2, 'Action, Adventure, Mystery': 2, 'Horror, Sci-Fi': 2, 'Animation, Action, Horror': 2, 'Horror, Reality-TV': 2, 'Documentary, History, Reality-TV': 2, 'Fantasy, Horror, Sci-Fi': 2, 'Family, Sport': 2, 'Comedy, Fantasy, Mystery': 2, 'Short, Music': 2, 'Crime, History, Thriller': 2, 'Animation, Action, Family': 2, 'Action, Thriller, War': 2, 'Short, Comedy, Music': 2, 'Family, Romance': 2, 'Comedy, Music, Musical': 2, 'Documentary, Action, Crime': 2, 'Documentary, Horror': 2, 'Drama, Family, Sci-Fi': 2, 'Comedy, Horror, Romance': 2, 'Fantasy, Horror, Thriller': 2, 'Documentary, Comedy, History': 2, 'Biography, History, War': 2, 'Documentary, Action, Biography': 2, 'Action, Horror': 2, 'Documentary, Adventure, Biography': 2, 'Documentary, Game-Show': 2, 'Fantasy': 2, 'Game-Show, Music': 2, 'Documentary, Drama, Sport': 2, 'Adventure, Western': 2, 'Western, Adventure': 2, 'Horror, Mystery, Romance': 2, 'Fantasy, Horror': 2, 'Family, Music': 2, 'Drama, Fantasy, History': 2, 'Musical': 2, 'Animation, Action': 2, 'Documentary, Crime, Thriller': 2, 'Documentary, Animation, History': 2, 'Documentary, Mystery': 2, 'Animation, Drama, Sport': 2, 'Documentary, Short, Family': 2, 'Mystery': 2, 'Short, History': 2, 'Biography, Family, News': 2, 'Drama, History, Horror': 1, 'Adventure, Fantasy, Romance': 1, 'Adventure, Thriller': 1, 'Action, Adventure, Romance': 1, 'Drama, Romance, Western': 1, 'Action, Comedy, War': 1, 'Comedy, Drama, Western': 1, 'Comedy, Family, Sci-Fi': 1, 'Animation, Comedy, Music': 1, 'Action, Drama, Family': 1, 'Short, Comedy, Family': 1, 'Drama, History, Mystery': 1, 'Comedy, Family, Music': 1, 'Adventure, Comedy, Music': 1, 'Adventure, Game-Show, Reality-TV': 1, 'Adventure, Sci-Fi, Thriller': 1, 'Drama, Family, Reality-TV': 1, 'Comedy, History': 1, 'Action, Fantasy, Thriller': 1, 'Comedy, Mystery, Romance': 1, 'Crime, Mystery, Sci-Fi': 1, 'Drama, History, Sci-Fi': 1, 'Animation, Biography, Drama': 1, 'Action, Thriller, Western': 1, 'Adventure, Horror, Sci-Fi': 1, 'Biography, Comedy': 1, 'Family, Fantasy, Horror': 1, 'Adventure, Drama, War': 1, 'Action, Comedy, Reality-TV': 1, 'Family, Game-Show': 1, 'Short, Action, Comedy': 1, 'Mystery, Sci-Fi': 1, 'Short, Comedy, Drama': 1, 'Drama, History, Western': 1, 'Drama, Fantasy, Music': 1, 'History, Thriller': 1, 'Documentary, Adventure, Sport': 1, 'Horror, Music, Thriller': 1, 'Adventure, Comedy, Horror': 1, 'Crime, Drama, Western': 1, 'Action, War': 1, 'Animation, Action, Sport': 1, 'Drama, Family, Musical': 1, 'History, Sport, Thriller': 1, 'Adventure, Romance': 1, 'Animation, Crime, History': 1, 'Animation, Adventure': 1, 'Crime, Fantasy, Romance': 1, 'Comedy, Romance, Sci-Fi': 1, 'Comedy, Mystery, Sci-Fi': 1, 'Horror, Romance, Thriller': 1, 'Documentary, Drama, Mystery': 1, 'Action, Fantasy, Western': 1, 'Action, Romance, Sci-Fi': 1, 'Comedy, Crime, Family': 1, 'Animation, Adventure, Horror': 1, 'Crime, Drama, Family': 1, 'Action, Fantasy': 1, 'Drama, Family, Thriller': 1, 'Adventure, Comedy, Mystery': 1, 'Short, Drama, Sci-Fi': 1, 'Comedy, Horror, Talk-Show': 1, 'Game-Show, Horror, Reality-TV': 1, 'Comedy, Romance, Talk-Show': 1, 'Adventure, Biography, Crime': 1, 'Animation, Drama': 1, 'Crime, History': 1, 'Animation, Action, Romance': 1, 'Comedy, Crime, Western': 1, 'Action, Mystery, Romance': 1, 'Comedy, Mystery, Thriller': 1, 'Film-Noir, Thriller': 1, 'Documentary, Animation, Sci-Fi': 1, 'Comedy, Animation': 1, 'Family, Sci-Fi, Thriller': 1, 'Short, Action, Adventure': 1, 'Short, Comedy, Crime': 1, 'Crime, Film-Noir, Mystery': 1, 'Drama, History, Music': 1, 'Biography, Thriller': 1, 'Crime, Film-Noir, Thriller': 1, 'Action, Fantasy, History': 1, 'Comedy, Horror, Sci-Fi': 1, 'Biography, Music': 1, 'Short, Action, Romance': 1, 'Animation, Action, History': 1, 'Documentary, Adventure, History': 1, 'Drama, Horror, Romance': 1, 'Animation, Action, Mystery': 1, 'Drama, Film-Noir, Mystery': 1, 'Comedy, Fantasy, Reality-TV': 1, 'Action, Mystery, Sci-Fi': 1, 'Romance, Drama, Music': 1, 'Documentary, Talk-Show': 1, 'Action, Mystery': 1, 'Comedy, News, Talk-Show': 1, 'Drama, Musical, Romance': 1, 'Action, Crime, Sport': 1, 'Crime, Horror, Romance': 1, 'Documentary, Animation': 1, 'Animation, Fantasy, Romance': 1, 'Animation, Comedy, Crime': 1, 'Family, Talk-Show': 1, 'History, War': 1, 'Reality-TV, Sport': 1, 'Short, Horror, Mystery': 1, 'Family, Music, Romance': 1, 'Drama, Fantasy, Sport': 1, 'Comedy, Romance, Sport': 1, 'Documentary, Adventure, Game-Show': 1, 'Animation, Comedy, Sci-Fi': 1, 'Short, Action, Crime': 1, 'Biography, Reality-TV': 1, 'Comedy, Romance, Western': 1, 'Action, Adventure, Western': 1, 'Mystery, Romance, Thriller': 1, 'Drama, Family, History': 1, 'Short, Comedy, Game-Show': 1, 'Comedy, History, Romance': 1, 'Short, Drama, Music': 1, 'Comedy, Action': 1, 'Horror, Romance': 1, 'Documentary, Music, News': 1, 'Horror, Reality-TV, Sci-Fi': 1, 'Family, Musical': 1, 'Documentary, Comedy, Musical': 1, 'Short, Family, Mystery': 1, 'Drama, Thriller, Western': 1, 'Music, Romance': 1, 'Crime, Fantasy, Thriller': 1, 'Documentary, Short, Sci-Fi': 1, 'Animation, Fantasy, Sci-Fi': 1, 'Documentary, Mystery, Reality-TV': 1, 'Animation, Music': 1, 'Crime, Mystery': 1, 'Adventure, Family': 1, 'Biography, History': 1, 'Short, Drama, History': 1, 'Family, Reality-TV': 1, 'Short, Adventure': 1, 'Documentary, Horror, Mystery': 1, 'Adventure, Mystery': 1, 'Drama, Family, Mystery': 1, 'Comedy, War': 1, 'Adventure, Game-Show, Mystery': 1, 'Adventure, Drama, Sport': 1, 'Animation, Horror': 1, 'Short, Crime, Drama': 1, 'Documentary, Romance': 1, 'Fantasy, Music': 1, 'Comedy, Fantasy, Music': 1, 'Romance, Western': 1, 'Fantasy, Thriller': 1, 'Short, Comedy, Talk-Show': 1, 'Action, Romance': 1, 'Documentary, Reality-TV, Sport': 1, 'Game-Show, Reality-TV, Sport': 1, 'Documentary, Drama, Fantasy': 1, 'Animation, Comedy, Musical': 1, 'Documentary, Musical': 1, 'Documentary, Biography, War': 1, 'Short, Mystery, Sci-Fi': 1, 'Comedy, Game-Show': 1, 'Documentary, Action, History': 1, 'Action, Biography, History': 1, 'Animation, Family, Sci-Fi': 1, 'Documentary, Western': 1, 'Short, Musical': 1, 'Animation, Short, Mystery': 1, 'Action, History': 1, 'Documentary, Biography, Romance': 1, 'Comedy, Documentary': 1, 'Game-Show, Music, Reality-TV': 1, 'Short, Comedy, Fantasy': 1, 'Music, Musical': 1, 'Documentary, Biography, Family': 1, 'Romance, Sport': 1, 'Short, Biography, Drama': 1, 'Documentary, Comedy, Music': 1, 'Adventure, Music, Sci-Fi': 1, 'Short, Action, Biography': 1, 'Action, Adventure, Sport': 1, 'Documentary, History, Mystery': 1, 'Crime, Horror': 1, 'Documentary, Crime, News': 1, 'Comedy, Musical, War': 1, 'Documentary, Adventure, News': 1, 'Short, Action, Drama': 1, 'Animation, Family, Music': 1, 'Documentary, Music, Musical': 1, 'Short, Biography, Fantasy': 1, 'History, Music, Talk-Show': 1, 'Documentary, Music, Sport': 1, 'Short, Sci-Fi': 1, 'Short, Reality-TV': 1, 'Musical, Thriller': 1, 'Short, Crime': 1, 'Short, Action': 1, 'News, Reality-TV': 1})\n"
          ]
        }
      ],
      "source": [
        "print('Total No of Tag:',len(Counter(netflixDataset['Tag'])))\n",
        "print(Counter(netflixDataset['Tag']))"
      ]
    },
    {
      "cell_type": "code",
      "execution_count": 27,
      "metadata": {
        "id": "DJwfPOuAmZ0V"
      },
      "outputs": [],
      "source": [
        "# Converting rating float value to int\n",
        "netflixDataset['rating'] = netflixDataset['rating'].astype(int)"
      ]
    },
    {
      "cell_type": "code",
      "execution_count": 28,
      "metadata": {
        "id": "fmQddBRHj2_T"
      },
      "outputs": [],
      "source": [
        "# Converting votes into numeric format and removing quotes('') and comma(,) from it\n",
        "def convert_to_int(s):\n",
        "    return int(s.replace(',', ''))\n",
        "\n",
        "netflixDataset['votes'] = netflixDataset['votes'].apply(convert_to_int)\n"
      ]
    },
    {
      "cell_type": "code",
      "execution_count": 29,
      "metadata": {
        "id": "HcaNhcgShoIr"
      },
      "outputs": [],
      "source": [
        "# function to convert categorical data into numeric format .\n",
        "def fillUp(data):\n",
        "  l = {}\n",
        "  n = 1\n",
        "  for i in data:\n",
        "    l[i] = n\n",
        "    n = n+1\n",
        "  return l"
      ]
    },
    {
      "cell_type": "code",
      "execution_count": 30,
      "metadata": {
        "id": "onPKNB3gh30L"
      },
      "outputs": [],
      "source": [
        "genre = fillUp(pd.DataFrame(netflixDataset['genre'].value_counts()).index)\n",
        "certificate = fillUp(pd.DataFrame(netflixDataset['certificate'].value_counts()).index)\n",
        "tag = fillUp(pd.DataFrame(netflixDataset['Tag'].value_counts()).index)"
      ]
    },
    {
      "cell_type": "code",
      "execution_count": 31,
      "metadata": {
        "id": "zuuMkg7nh9OS"
      },
      "outputs": [],
      "source": [
        "df1 = netflixDataset.replace({'genre':genre})\n",
        "df2 = df1.replace({'Tag':tag})\n",
        "df = df2.replace({'certificate':certificate})"
      ]
    },
    {
      "cell_type": "code",
      "execution_count": 32,
      "metadata": {
        "colab": {
          "base_uri": "https://localhost:8080/"
        },
        "id": "J5C3TntqSnrW",
        "outputId": "f8a41a7f-15dc-42f0-a642-c2b8edcc2a05"
      },
      "outputs": [
        {
          "output_type": "stream",
          "name": "stdout",
          "text": [
            "<class 'pandas.core.frame.DataFrame'>\n",
            "RangeIndex: 9150 entries, 0 to 9149\n",
            "Data columns (total 11 columns):\n",
            " #   Column        Non-Null Count  Dtype \n",
            "---  ------        --------------  ----- \n",
            " 0   movie_ID      9150 non-null   int64 \n",
            " 1   title         9150 non-null   object\n",
            " 2   year          9150 non-null   int64 \n",
            " 3   certificate   9150 non-null   int64 \n",
            " 4   duration_min  9150 non-null   int64 \n",
            " 5   genre         9150 non-null   int64 \n",
            " 6   Tag           9150 non-null   int64 \n",
            " 7   rating        9150 non-null   int64 \n",
            " 8   description   9150 non-null   object\n",
            " 9   stars         9150 non-null   object\n",
            " 10  votes         9150 non-null   int64 \n",
            "dtypes: int64(8), object(3)\n",
            "memory usage: 786.5+ KB\n"
          ]
        }
      ],
      "source": [
        "df.info()"
      ]
    },
    {
      "cell_type": "code",
      "execution_count": 33,
      "metadata": {
        "colab": {
          "base_uri": "https://localhost:8080/",
          "height": 908
        },
        "id": "uMaKh2x2hGMi",
        "outputId": "d79e8a33-ef98-4f9e-e780-d5fc9aad4250"
      },
      "outputs": [
        {
          "output_type": "stream",
          "name": "stderr",
          "text": [
            "<ipython-input-33-63dcfebd7b1c>:2: FutureWarning: The default value of numeric_only in DataFrame.corr is deprecated. In a future version, it will default to False. Select only valid columns or specify the value of numeric_only to silence this warning.\n",
            "  corrs = df.corr()\n"
          ]
        },
        {
          "output_type": "execute_result",
          "data": {
            "text/plain": [
              "<Axes: >"
            ]
          },
          "metadata": {},
          "execution_count": 33
        },
        {
          "output_type": "display_data",
          "data": {
            "text/plain": [
              "<Figure size 1500x1000 with 2 Axes>"
            ],
            "image/png": "[encoded data removed]"
          },
          "metadata": {}
        }
      ],
      "source": [
        "plt.subplots(figsize=(15,10))\n",
        "corrs = df.corr()\n",
        "map1 = sns.heatmap(corrs, annot=True, linewidth=1)#, cmap='coolwarm')\n",
        "map1"
      ]
    },
    {
      "cell_type": "markdown",
      "metadata": {
        "id": "x9PSe85uUBMF"
      },
      "source": [
        "`Heatmap depicts that movie_ID variable is less correlated with votes.`"
      ]
    },
    {
      "cell_type": "markdown",
      "metadata": {
        "id": "A5jL50XfT_y6"
      },
      "source": [
        "## Predicting genre of the movies"
      ]
    },
    {
      "cell_type": "code",
      "execution_count": 34,
      "metadata": {
        "id": "qyGLDKNPTQb9"
      },
      "outputs": [],
      "source": [
        "X = df.drop(columns=['title','description','stars','genre','movie_ID'])\n",
        "Y = df['genre']"
      ]
    },
    {
      "cell_type": "markdown",
      "metadata": {
        "id": "_bgVdLBjU10O"
      },
      "source": [
        "### Random Forest Classification"
      ]
    },
    {
      "cell_type": "code",
      "execution_count": 35,
      "metadata": {
        "colab": {
          "base_uri": "https://localhost:8080/"
        },
        "id": "ac7ZiuwFU4gs",
        "outputId": "f06fd5f1-ca5f-44f5-8902-b441bce2a16b"
      },
      "outputs": [
        {
          "output_type": "stream",
          "name": "stdout",
          "text": [
            "Accuracy: 0.7604895104895105\n",
            "              precision    recall  f1-score   support\n",
            "\n",
            "           1       0.85      0.83      0.84       499\n",
            "           2       0.78      0.81      0.79       410\n",
            "           3       0.83      0.89      0.86       324\n",
            "           4       0.75      0.83      0.79       324\n",
            "           5       0.60      0.73      0.66       281\n",
            "           6       0.78      0.64      0.71       163\n",
            "           7       0.72      0.54      0.62        61\n",
            "           8       0.43      0.27      0.33        48\n",
            "           9       0.94      0.85      0.89        39\n",
            "          10       0.62      0.39      0.48        38\n",
            "          11       0.78      0.41      0.54        17\n",
            "          12       0.67      0.40      0.50        15\n",
            "          13       0.38      0.25      0.30        12\n",
            "          14       0.75      0.25      0.38        12\n",
            "          15       0.50      0.21      0.30        14\n",
            "          16       0.50      0.60      0.55         5\n",
            "          17       0.00      0.00      0.00         6\n",
            "          18       0.17      0.12      0.14         8\n",
            "          19       0.33      0.20      0.25         5\n",
            "          20       0.00      0.00      0.00         2\n",
            "          21       0.67      1.00      0.80         2\n",
            "          22       0.00      0.00      0.00         2\n",
            "          24       0.00      0.00      0.00         1\n",
            "\n",
            "    accuracy                           0.76      2288\n",
            "   macro avg       0.52      0.45      0.47      2288\n",
            "weighted avg       0.76      0.76      0.75      2288\n",
            "\n"
          ]
        },
        {
          "output_type": "stream",
          "name": "stderr",
          "text": [
            "/usr/local/lib/python3.10/dist-packages/sklearn/metrics/_classification.py:1344: UndefinedMetricWarning: Precision and F-score are ill-defined and being set to 0.0 in labels with no predicted samples. Use `zero_division` parameter to control this behavior.\n",
            "  _warn_prf(average, modifier, msg_start, len(result))\n",
            "/usr/local/lib/python3.10/dist-packages/sklearn/metrics/_classification.py:1344: UndefinedMetricWarning: Precision and F-score are ill-defined and being set to 0.0 in labels with no predicted samples. Use `zero_division` parameter to control this behavior.\n",
            "  _warn_prf(average, modifier, msg_start, len(result))\n",
            "/usr/local/lib/python3.10/dist-packages/sklearn/metrics/_classification.py:1344: UndefinedMetricWarning: Precision and F-score are ill-defined and being set to 0.0 in labels with no predicted samples. Use `zero_division` parameter to control this behavior.\n",
            "  _warn_prf(average, modifier, msg_start, len(result))\n"
          ]
        }
      ],
      "source": [
        "# Split the data into training and testing sets\n",
        "X_train, X_test, y_train, y_test = train_test_split(X, Y, test_size=0.25, random_state=101)\n",
        "\n",
        "# Create a Random Forest classifier with 100 trees\n",
        "rfc = RandomForestClassifier(n_estimators=100, random_state=101)\n",
        "\n",
        "# Fit the model to the training data\n",
        "rfc.fit(X_train, y_train)\n",
        "\n",
        "# Make predictions on the test data\n",
        "y_pred = rfc.predict(X_test)\n",
        "\n",
        "# Calculate the accuracy score\n",
        "accuracy = rfc.score(X_test, y_test)\n",
        "print(\"Accuracy:\", accuracy)\n",
        "print(classification_report(y_test,y_pred))"
      ]
    },
    {
      "cell_type": "code",
      "execution_count": 36,
      "metadata": {
        "colab": {
          "base_uri": "https://localhost:8080/"
        },
        "id": "uvjWiqJkVS0J",
        "outputId": "1a6c44b3-3258-47b7-b9a0-981ea053ae6c"
      },
      "outputs": [
        {
          "output_type": "stream",
          "name": "stderr",
          "text": [
            "/usr/local/lib/python3.10/dist-packages/sklearn/model_selection/_split.py:700: UserWarning: The least populated class in y has only 1 members, which is less than n_splits=5.\n",
            "  warnings.warn(\n"
          ]
        },
        {
          "output_type": "stream",
          "name": "stdout",
          "text": [
            "Accuracy: 0.7596153846153846\n",
            "Best parameters: {'max_depth': 20, 'min_samples_leaf': 1, 'min_samples_split': 2, 'n_estimators': 500}\n"
          ]
        }
      ],
      "source": [
        "\n",
        "# Split the data into training and testing sets\n",
        "X_train, X_test, y_train, y_test = train_test_split(X, Y, test_size=0.25, random_state=101)\n",
        "\n",
        "# Create a Random Forest classifier\n",
        "rfc = RandomForestClassifier(random_state=101)\n",
        "\n",
        "# Set the hyperparameters to tune\n",
        "param_grid = {\n",
        "    'n_estimators': [100, 200, 500],\n",
        "    'max_depth': [5, 10, 20],\n",
        "    'min_samples_split': [2, 5, 10],\n",
        "    'min_samples_leaf': [1, 2, 4]\n",
        "}\n",
        "\n",
        "# Create a GridSearchCV object\n",
        "grid_search = GridSearchCV(rfc, param_grid, cv=5)\n",
        "\n",
        "# Fit the model to the training data\n",
        "grid_search.fit(X_train, y_train)\n",
        "\n",
        "# Make predictions on the test data\n",
        "y_pred = grid_search.predict(X_test)\n",
        "\n",
        "# Calculate the accuracy score\n",
        "accuracy = grid_search.score(X_test, y_test)\n",
        "print(\"Accuracy:\", accuracy)\n",
        "\n",
        "# Print the best parameters found by GridSearchCV\n",
        "print(\"Best parameters:\", grid_search.best_params_)"
      ]
    },
    {
      "cell_type": "markdown",
      "metadata": {
        "id": "L4KyCkT9VyQ8"
      },
      "source": [
        "### Gradient Boosting Classifier"
      ]
    },
    {
      "cell_type": "code",
      "execution_count": 37,
      "metadata": {
        "colab": {
          "base_uri": "https://localhost:8080/"
        },
        "id": "z0fBuF6hV5Jk",
        "outputId": "de0b99b5-a2ea-413c-de7e-540685a58979"
      },
      "outputs": [
        {
          "output_type": "stream",
          "name": "stdout",
          "text": [
            "Accuracy: 0.9187062937062938\n",
            "              precision    recall  f1-score   support\n",
            "\n",
            "           1       0.97      0.93      0.95       499\n",
            "           2       0.95      0.91      0.93       410\n",
            "           3       0.95      0.92      0.93       324\n",
            "           4       0.85      0.94      0.89       324\n",
            "           5       0.83      0.93      0.88       281\n",
            "           6       0.98      0.94      0.96       163\n",
            "           7       0.89      0.82      0.85        61\n",
            "           8       0.95      0.83      0.89        48\n",
            "           9       1.00      1.00      1.00        39\n",
            "          10       0.94      0.84      0.89        38\n",
            "          11       0.69      0.53      0.60        17\n",
            "          12       0.86      0.80      0.83        15\n",
            "          13       1.00      0.92      0.96        12\n",
            "          14       1.00      1.00      1.00        12\n",
            "          15       0.81      0.93      0.87        14\n",
            "          16       1.00      1.00      1.00         5\n",
            "          17       0.75      1.00      0.86         6\n",
            "          18       0.83      0.62      0.71         8\n",
            "          19       1.00      1.00      1.00         5\n",
            "          20       1.00      1.00      1.00         2\n",
            "          21       0.67      1.00      0.80         2\n",
            "          22       1.00      1.00      1.00         2\n",
            "          24       0.00      0.00      0.00         1\n",
            "          26       0.00      0.00      0.00         0\n",
            "\n",
            "    accuracy                           0.92      2288\n",
            "   macro avg       0.83      0.83      0.83      2288\n",
            "weighted avg       0.92      0.92      0.92      2288\n",
            "\n"
          ]
        },
        {
          "output_type": "stream",
          "name": "stderr",
          "text": [
            "/usr/local/lib/python3.10/dist-packages/sklearn/metrics/_classification.py:1344: UndefinedMetricWarning: Recall and F-score are ill-defined and being set to 0.0 in labels with no true samples. Use `zero_division` parameter to control this behavior.\n",
            "  _warn_prf(average, modifier, msg_start, len(result))\n",
            "/usr/local/lib/python3.10/dist-packages/sklearn/metrics/_classification.py:1344: UndefinedMetricWarning: Recall and F-score are ill-defined and being set to 0.0 in labels with no true samples. Use `zero_division` parameter to control this behavior.\n",
            "  _warn_prf(average, modifier, msg_start, len(result))\n",
            "/usr/local/lib/python3.10/dist-packages/sklearn/metrics/_classification.py:1344: UndefinedMetricWarning: Recall and F-score are ill-defined and being set to 0.0 in labels with no true samples. Use `zero_division` parameter to control this behavior.\n",
            "  _warn_prf(average, modifier, msg_start, len(result))\n"
          ]
        }
      ],
      "source": [
        "# Split the data into training and testing sets\n",
        "X_train, X_test, y_train, y_test = train_test_split(X, Y, test_size=0.25, random_state=101)\n",
        "\n",
        "# Create a Gradient Boosting classifier\n",
        "gbc = GradientBoostingClassifier(random_state=101)\n",
        "\n",
        "# Fit the model to the training data\n",
        "gbc.fit(X_train, y_train)\n",
        "\n",
        "# Make predictions on the test data\n",
        "y_pred = gbc.predict(X_test)\n",
        "\n",
        "# Calculate the accuracy score\n",
        "accuracy = gbc.score(X_test, y_test)\n",
        "print(\"Accuracy:\", accuracy)\n",
        "print(classification_report(y_test,y_pred))"
      ]
    },
    {
      "cell_type": "markdown",
      "metadata": {
        "id": "0ilzWnTxncBm"
      },
      "source": [
        "## Refenreces\n"
      ]
    },
    {
      "cell_type": "markdown",
      "metadata": {
        "id": "3gwyWEP_nhzF"
      },
      "source": [
        "- https://sites.temple.edu/tudsc/2017/03/30/measuring-similarity-between-texts-in-python/#:~:text=The%20cosine%20similarity%20is%20the,the%20similarity%20between%20two%20documents.\n",
        "\n",
        "- https://www.analyticsvidhya.com/blog/2021/09/gradient-boosting-algorithm-a-complete-guide-for-beginners/"
      ]
    }
  ]
}